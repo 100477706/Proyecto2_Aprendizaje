{
  "nbformat": 4,
  "nbformat_minor": 0,
  "metadata": {
    "colab": {
      "provenance": [],
      "authorship_tag": "ABX9TyMfhNPx0wZs6SyncHxL5+iE",
      "include_colab_link": true
    },
    "kernelspec": {
      "name": "python3",
      "display_name": "Python 3"
    },
    "language_info": {
      "name": "python"
    }
  },
  "cells": [
    {
      "cell_type": "markdown",
      "metadata": {
        "id": "view-in-github",
        "colab_type": "text"
      },
      "source": [
        "<a href=\"https://colab.research.google.com/github/100477706/Proyecto2_Aprendizaje/blob/main/Clustering_27.ipynb\" target=\"_parent\"><img src=\"https://colab.research.google.com/assets/colab-badge.svg\" alt=\"Open In Colab\"/></a>"
      ]
    },
    {
      "cell_type": "markdown",
      "source": [
        "# **0. IDENTIFICACIÓN DE ESTUDIANTES**\n",
        "\n",
        "---"
      ],
      "metadata": {
        "id": "8zi9LzVm9tt4"
      }
    },
    {
      "cell_type": "markdown",
      "source": [
        "**Grupo de Trabajo:** 27\n",
        "\n",
        "Gabriel José Rivera Amor - 100477706@alumnos.uc3m.es\n",
        "\n",
        "Santiago José Díaz Rodríguez - 100479095@alumnos.uc3m.es\n",
        "\n",
        "**Enlace Github:** https://github.com/100477706/Proyecto2_Aprendizaje.git"
      ],
      "metadata": {
        "id": "MGbx8FSv9wDs"
      }
    },
    {
      "cell_type": "markdown",
      "source": [
        "# **1. CARGA DE DATOS**\n",
        "\n",
        "---"
      ],
      "metadata": {
        "id": "GOF0_zGN-PjJ"
      }
    },
    {
      "cell_type": "markdown",
      "source": [
        "Mediante este apartado realizamos la carga de datos al Google Collab teniendo en cuenta que en cada ingreso a la aplicación se debe realizar la carga del dataset.\n",
        "\n",
        "En este apartado se descomprime el archivo que se ha subido y se muestran los datos por pantalla."
      ],
      "metadata": {
        "id": "69ApAiIn-XfG"
      }
    },
    {
      "cell_type": "code",
      "source": [
        "!ls"
      ],
      "metadata": {
        "id": "tUaL0Y1q-c8q"
      },
      "execution_count": null,
      "outputs": []
    }
  ]
}